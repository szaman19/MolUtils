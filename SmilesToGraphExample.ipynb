{
 "cells": [
  {
   "cell_type": "code",
   "execution_count": 1,
   "id": "76797be3-df04-43d7-a5a4-1d38b7afb711",
   "metadata": {},
   "outputs": [],
   "source": [
    "from rdkit import Chem\n",
    "import numpy as np"
   ]
  },
  {
   "cell_type": "code",
   "execution_count": null,
   "id": "7e534367-d2bb-460e-865c-b3b1e3a5f445",
   "metadata": {},
   "outputs": [],
   "source": []
  },
  {
   "cell_type": "code",
   "execution_count": 2,
   "id": "bb062199-0441-459a-8ecd-0ab9c62dab71",
   "metadata": {},
   "outputs": [],
   "source": [
    "smiles_string = \"CN1C=NC2=C1C(=O)N(C(=O)N2C)C\""
   ]
  },
  {
   "cell_type": "code",
   "execution_count": 3,
   "id": "6798d7d0-4057-4b9a-bb77-947531f9d736",
   "metadata": {},
   "outputs": [],
   "source": [
    "rdkit_mol = Chem.MolFromSmiles(smiles_string)"
   ]
  },
  {
   "cell_type": "code",
   "execution_count": 4,
   "id": "9e88a49c-ad04-45cc-be32-eaea82ba155c",
   "metadata": {},
   "outputs": [
    {
     "data": {
      "image/png": "[encoded data removed]",
      "text/plain": [
       "<rdkit.Chem.rdchem.Mol at 0x7fbe480bd5a0>"
      ]
     },
     "execution_count": 4,
     "metadata": {},
     "output_type": "execute_result"
    }
   ],
   "source": [
    "rdkit_mol"
   ]
  },
  {
   "cell_type": "code",
   "execution_count": 5,
   "id": "3091ed6c-cc54-4577-83d6-f2317f7d5877",
   "metadata": {},
   "outputs": [],
   "source": [
    "rdkit_mol_with_Hs = Chem.AddHs(rdkit_mol)"
   ]
  },
  {
   "cell_type": "code",
   "execution_count": 6,
   "id": "7ce4315f-ebde-4625-bd8b-95424ebcfbce",
   "metadata": {},
   "outputs": [
    {
     "data": {
      "image/png": "[encoded data removed]",
      "text/plain": [
       "<rdkit.Chem.rdchem.Mol at 0x7fbe480bda20>"
      ]
     },
     "execution_count": 6,
     "metadata": {},
     "output_type": "execute_result"
    }
   ],
   "source": [
    "rdkit_mol_with_Hs"
   ]
  },
  {
   "cell_type": "code",
   "execution_count": 10,
   "id": "500d45ad-0bcc-401c-b8f8-f795c780dfa3",
   "metadata": {},
   "outputs": [],
   "source": [
    "def OrganicEncoderOneHot(atom_vec, max_num=4):\n",
    "    one_hot = np.zeros((atom_vec.size, max_num))\n",
    "    one_hot[np.arange(atom_vec.size), atom_vec] = 1\n",
    "    return one_hot"
   ]
  },
  {
   "cell_type": "code",
   "execution_count": 12,
   "id": "382bd65e-7aa1-49da-be2a-275b7a6fae6d",
   "metadata": {},
   "outputs": [],
   "source": [
    "AtomList = ['H', \"C\", 'N', \"O\"]"
   ]
  },
  {
   "cell_type": "code",
   "execution_count": 11,
   "id": "c196d950-b6fe-42f7-b82e-1e0abf5a09b4",
   "metadata": {},
   "outputs": [],
   "source": [
    "BondList = [Chem.rdchem.BondType.SINGLE,\n",
    "            Chem.rdchem.BondType.DOUBLE,\n",
    "            Chem.rdchem.BondType.TRIPLE,\n",
    "            Chem.rdchem.BondType.AROMATIC]"
   ]
  },
  {
   "cell_type": "code",
   "execution_count": 18,
   "id": "c7ac1970-bb95-4194-89f5-0bc677a727a7",
   "metadata": {},
   "outputs": [],
   "source": [
    "def Atom_Embedding_Func(mol):\n",
    "    atom_vec = np.array([AtomList.index(x.GetSymbol()) for x in mol.GetAtoms()])\n",
    "    return OrganicEncoderOneHot(atom_vec)"
   ]
  },
  {
   "cell_type": "code",
   "execution_count": 31,
   "id": "911a9a8f-2af7-48b8-8bee-a4b96e260ef2",
   "metadata": {},
   "outputs": [],
   "source": [
    "def Bond_Embedding_Func(mol):\n",
    "    bond_vec = np.array([BondList.index(bond.GetBondType()) for bond in mol.GetBonds()])\n",
    "    return OrganicEncoderOneHot(bond_vec)"
   ]
  },
  {
   "cell_type": "code",
   "execution_count": 33,
   "id": "1c824af8-e61c-4080-8244-648d088ebc7f",
   "metadata": {},
   "outputs": [],
   "source": [
    "def GetConnectivity(mol, undirected=True):\n",
    "    edge_list = []\n",
    "    for bond in mol.GetBonds():\n",
    "        i = bond.GetBeginAtomIdx()\n",
    "        j = bond.GetEndAtomIdx()\n",
    "        edge_list.append([i, j])\n",
    "    if undirected:\n",
    "        return np.array(edge_list + [[y, x] for x, y in edge_list])\n",
    "    else:\n",
    "        return np.array(edge_list)"
   ]
  },
  {
   "cell_type": "code",
   "execution_count": 36,
   "id": "6f88b0de-1b09-4064-b4a4-f194d532a775",
   "metadata": {},
   "outputs": [],
   "source": [
    "atoms = Atom_Embedding_Func(rdkit_mol_with_Hs)"
   ]
  },
  {
   "cell_type": "code",
   "execution_count": 35,
   "id": "b7d781e3-0922-45a4-be76-b6adf4b6e80f",
   "metadata": {},
   "outputs": [],
   "source": [
    "bonds = Bond_Embedding_Func(rdkit_mol_with_Hs)"
   ]
  },
  {
   "cell_type": "code",
   "execution_count": 34,
   "id": "47dfd397-5c5c-41d3-9a29-f02466b07dbd",
   "metadata": {
    "collapsed": true,
    "jupyter": {
     "outputs_hidden": true
    }
   },
   "outputs": [
    {
     "data": {
      "text/plain": [
       "array([[ 0,  1],\n",
       "       [ 1,  2],\n",
       "       [ 2,  3],\n",
       "       [ 3,  4],\n",
       "       [ 4,  5],\n",
       "       [ 5,  6],\n",
       "       [ 6,  7],\n",
       "       [ 6,  8],\n",
       "       [ 8,  9],\n",
       "       [ 9, 10],\n",
       "       [ 9, 11],\n",
       "       [11, 12],\n",
       "       [ 8, 13],\n",
       "       [ 5,  1],\n",
       "       [11,  4],\n",
       "       [ 0, 14],\n",
       "       [ 0, 15],\n",
       "       [ 0, 16],\n",
       "       [ 2, 17],\n",
       "       [12, 18],\n",
       "       [12, 19],\n",
       "       [12, 20],\n",
       "       [13, 21],\n",
       "       [13, 22],\n",
       "       [13, 23],\n",
       "       [ 1,  0],\n",
       "       [ 2,  1],\n",
       "       [ 3,  2],\n",
       "       [ 4,  3],\n",
       "       [ 5,  4],\n",
       "       [ 6,  5],\n",
       "       [ 7,  6],\n",
       "       [ 8,  6],\n",
       "       [ 9,  8],\n",
       "       [10,  9],\n",
       "       [11,  9],\n",
       "       [12, 11],\n",
       "       [13,  8],\n",
       "       [ 1,  5],\n",
       "       [ 4, 11],\n",
       "       [14,  0],\n",
       "       [15,  0],\n",
       "       [16,  0],\n",
       "       [17,  2],\n",
       "       [18, 12],\n",
       "       [19, 12],\n",
       "       [20, 12],\n",
       "       [21, 13],\n",
       "       [22, 13],\n",
       "       [23, 13]])"
      ]
     },
     "execution_count": 34,
     "metadata": {},
     "output_type": "execute_result"
    }
   ],
   "source": [
    "connectivty = GetConnectivity(rdkit_mol_with_Hs)"
   ]
  },
  {
   "cell_type": "markdown",
   "id": "85e35c15-ace7-4ba9-a5e6-b78f391e3c78",
   "metadata": {},
   "source": [
    "## Convert back to SMILES\n",
    "#### Use RDKIT"
   ]
  },
  {
   "cell_type": "code",
   "execution_count": null,
   "id": "ee1bc3d9-14f1-4098-9f20-8c62f994ffdc",
   "metadata": {},
   "outputs": [],
   "source": []
  }
 ],
 "metadata": {
  "kernelspec": {
   "display_name": "Python 3 (ipykernel)",
   "language": "python",
   "name": "python3"
  },
  "language_info": {
   "codemirror_mode": {
    "name": "ipython",
    "version": 3
   },
   "file_extension": ".py",
   "mimetype": "text/x-python",
   "name": "python",
   "nbconvert_exporter": "python",
   "pygments_lexer": "ipython3",
   "version": "3.10.12"
  }
 },
 "nbformat": 4,
 "nbformat_minor": 5
}
